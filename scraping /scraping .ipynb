{
 "cells": [
  {
   "cell_type": "markdown",
   "metadata": {},
   "source": [
    "# Enoncé \n",
    "\n",
    "\n",
    "Nous voulons automatiser la récupération des données bancaires sur un site de banque de démo. L'objectif est de récupérer le solde du comtpe et les 5 dernières transactions. "
   ]
  },
  {
   "cell_type": "markdown",
   "metadata": {},
   "source": [
    "## Setup 💻"
   ]
  },
  {
   "cell_type": "markdown",
   "metadata": {},
   "source": [
    "Importez les librairies de scraping "
   ]
  },
  {
   "cell_type": "code",
   "execution_count": 2,
   "metadata": {},
   "outputs": [],
   "source": [
    "import requests\n",
    "from bs4 import BeautifulSoup"
   ]
  },
  {
   "cell_type": "markdown",
   "metadata": {},
   "source": [
    "## Cest parti 💪 "
   ]
  },
  {
   "cell_type": "markdown",
   "metadata": {},
   "source": [
    "### 1. Enregistrez l'url de l'interface du compte dans une variable `url`"
   ]
  },
  {
   "cell_type": "code",
   "execution_count": 8,
   "metadata": {},
   "outputs": [],
   "source": [
    "# Votre code ici"
   ]
  },
  {
   "cell_type": "markdown",
   "metadata": {},
   "source": [
    "<details><summary>Solution</summary>\n",
    "\n",
    "```python \n",
    "url = \"https://demo.applitools.com/app.html\"\n",
    "```\n",
    "</details>"
   ]
  },
  {
   "cell_type": "markdown",
   "metadata": {},
   "source": [
    "### 2. Utilisez `requests` pour récupérer l'url et parser son contenu "
   ]
  },
  {
   "cell_type": "code",
   "execution_count": 9,
   "metadata": {},
   "outputs": [],
   "source": [
    "# Votre code ici "
   ]
  },
  {
   "cell_type": "markdown",
   "metadata": {},
   "source": [
    "<details><summary>Solution</summary>\n",
    "\n",
    "```python \n",
    "response = requests.get(url)\n",
    "soup = BeautifulSoup(response.content, \"html.parser\")\n",
    "```\n",
    "</details>"
   ]
  },
  {
   "cell_type": "markdown",
   "metadata": {},
   "source": [
    "### 3. Localisez le chemin vers la balance totale est stockez-la dans une variable `total_balance`. \n",
    "\n",
    "Si vous récupérez plusieures balances, prenez tout simplement la première"
   ]
  },
  {
   "cell_type": "code",
   "execution_count": 16,
   "metadata": {},
   "outputs": [],
   "source": [
    "# votre code ici "
   ]
  },
  {
   "cell_type": "markdown",
   "metadata": {},
   "source": [
    "<details><summary>Indice 1 </summary>\n",
    "Vous pouvez utiliser find_all ou find pour trouver chercher les éléments dans le document html\n",
    "</details>"
   ]
  },
  {
   "cell_type": "markdown",
   "metadata": {},
   "source": [
    "<details><summary>Indice 2 </summary>\n",
    "En utilisant l'inspecteur du navigateur, vous pouvez voir que la balance est stockée sous la forme suivante : \n",
    "\n",
    "```html\n",
    "<div class=\"balance-value\">\n",
    "    <span>$350</span>\n",
    "</div> \n",
    "```\n",
    "</details>"
   ]
  },
  {
   "cell_type": "markdown",
   "metadata": {},
   "source": [
    "<details><summary>Solution</summary>\n",
    "\n",
    "Avec la méthode `find` \n",
    "```python \n",
    "total_balance = soup.find(\"div\", class_=\"balance-value\").find(\"span\").text\n",
    "```\n",
    "\n",
    "Avec la méthode find_all \n",
    "```python \n",
    "total_balance = soup.find_all(\"div\", class_=\"balance-value\")[0].find(\"span\").text\n",
    "```   \n",
    "</details>"
   ]
  },
  {
   "cell_type": "markdown",
   "metadata": {},
   "source": [
    "### 4. Localisez comment sont stockées toutes les transactions "
   ]
  },
  {
   "cell_type": "markdown",
   "metadata": {},
   "source": [
    "4.1 Commencez par récupérer la table avec toutes les transactions. Stockez la dans une variable `transactions_table`"
   ]
  },
  {
   "cell_type": "markdown",
   "metadata": {},
   "source": [
    "4.2 En html les lignes des tableaux sont stockées dans une balise `tr` pour `table row`. \n",
    "Récupérez toutes les lignes de ce tableaux et stockez-la dans une variables `transactions_tr`"
   ]
  },
  {
   "cell_type": "markdown",
   "metadata": {},
   "source": [
    "4.3 Vérifiez avec la méthode `len` que vous avez bien 6 transactions. Profitez-en regarder le contenu de la première transaction"
   ]
  },
  {
   "cell_type": "code",
   "execution_count": 36,
   "metadata": {},
   "outputs": [],
   "source": [
    "# Votre code ici "
   ]
  },
  {
   "cell_type": "markdown",
   "metadata": {},
   "source": [
    "<details><summary>Solution</summary>\n",
    "\n",
    "```python \n",
    "transactions_table = soup.find(\"table\")\n",
    "transactions_tr = transactions_table.find_all(\"tr\")\n",
    "transactions_tr[0]\n",
    "len(transactions_tr)\n",
    "```\n",
    "</details>"
   ]
  },
  {
   "cell_type": "markdown",
   "metadata": {},
   "source": [
    "### 5. Récupérons les différentes valeurs d'une transaction"
   ]
  },
  {
   "cell_type": "markdown",
   "metadata": {},
   "source": [
    "5.1 Récupérez toutes les valeurs contenues dans les cellules d'une ligne de la table et stockons le dans une variables `cells`"
   ]
  },
  {
   "cell_type": "code",
   "execution_count": 51,
   "metadata": {},
   "outputs": [],
   "source": [
    "# Votre code ici"
   ]
  },
  {
   "cell_type": "markdown",
   "metadata": {},
   "source": [
    "<details><summary>Solution</summary>\n",
    "\n",
    "```python \n",
    "cells = transactions_tr[1].find_all(\"td\")\n",
    "```\n",
    "</details>"
   ]
  },
  {
   "cell_type": "markdown",
   "metadata": {},
   "source": [
    "5.2 Affichez la  variable pour voir à quoi elle ressemble. Et naviguez dedans pour récupérer les informations "
   ]
  },
  {
   "cell_type": "code",
   "execution_count": 58,
   "metadata": {},
   "outputs": [
    {
     "data": {
      "text/plain": [
       "[<td class=\"nowrap\">\n",
       " <span class=\"status-pill smaller green\"></span><span>Complete</span>\n",
       " </td>,\n",
       " <td>\n",
       " <span>Today</span><span class=\"smaller lighter\">1:52am</span>\n",
       " </td>,\n",
       " <td class=\"cell-with-media\">\n",
       " <img alt=\"\" src=\"img/company1.png\" style=\"height: 25px;\"/><span>Starbucks coffee</span>\n",
       " </td>,\n",
       " <td class=\"text-center\">\n",
       " <a class=\"badge badge-success\" href=\"\">Restaurant / Cafe</a>\n",
       " </td>,\n",
       " <td class=\"text-right bolder nowrap\">\n",
       " <span class=\"text-success\">+ 1,250 USD</span>\n",
       " </td>]"
      ]
     },
     "execution_count": 58,
     "metadata": {},
     "output_type": "execute_result"
    }
   ],
   "source": [
    "cells"
   ]
  },
  {
   "cell_type": "markdown",
   "metadata": {},
   "source": [
    "5.3 Récupérer le statut, le label, la montant "
   ]
  },
  {
   "cell_type": "code",
   "execution_count": 71,
   "metadata": {},
   "outputs": [],
   "source": [
    "# Votre code ici "
   ]
  },
  {
   "cell_type": "markdown",
   "metadata": {},
   "source": [
    "<details><summary>Solution</summary>\n",
    "\n",
    "```python \n",
    "# Récupération des valeurs \n",
    "status = cells[0].find_all(\"span\")[1].text\n",
    "label = cells[2].find_all(\"span\")[0].text\n",
    "amount = cells[4].find_all(\"span\")[0].text\n",
    "print(\"status : \", status )\n",
    "print(\"label : \", label)\n",
    "print(\"amount : \", amount)\n",
    "```\n",
    "\n",
    "</details>"
   ]
  },
  {
   "cell_type": "markdown",
   "metadata": {},
   "source": [
    "### 6. Créez une boucle pour récupérer les valeurs sur toutes les transactions "
   ]
  },
  {
   "cell_type": "code",
   "execution_count": 78,
   "metadata": {},
   "outputs": [],
   "source": [
    "# Votre code ici "
   ]
  },
  {
   "cell_type": "markdown",
   "metadata": {},
   "source": [
    "<details><summary>Solution</summary>\n",
    "\n",
    "```python \n",
    "# On enlève les headers  \n",
    "transactions_tr = transactions_tr[1:7]\n",
    "\n",
    "transactions = []\n",
    "for row in transactions_tr: \n",
    "    cells = row.find_all(\"td\")\n",
    "    status = cells[0].find_all(\"span\")[1].text\n",
    "    label = cells[2].find_all(\"span\")[0].text\n",
    "    amount = cells[4].find_all(\"span\")[0].text\n",
    "    transaction = {\"status\": status, \"label\": label, \"amount\": amount}\n",
    "    transactions.append(transaction)\n",
    "```\n",
    "\n",
    "</details>"
   ]
  }
 ],
 "metadata": {
  "kernelspec": {
   "display_name": "Python 3",
   "language": "python",
   "name": "python3"
  },
  "language_info": {
   "codemirror_mode": {
    "name": "ipython",
    "version": 3
   },
   "file_extension": ".py",
   "mimetype": "text/x-python",
   "name": "python",
   "nbconvert_exporter": "python",
   "pygments_lexer": "ipython3",
   "version": "3.7.6"
  }
 },
 "nbformat": 4,
 "nbformat_minor": 4
}
