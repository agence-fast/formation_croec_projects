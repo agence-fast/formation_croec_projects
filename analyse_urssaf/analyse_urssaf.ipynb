{
 "cells": [
  {
   "cell_type": "markdown",
   "metadata": {},
   "source": [
    "# Setup 💻"
   ]
  },
  {
   "cell_type": "markdown",
   "metadata": {},
   "source": [
    "### A. Importer les librairies"
   ]
  },
  {
   "cell_type": "code",
   "execution_count": 1,
   "metadata": {},
   "outputs": [],
   "source": [
    "import requests\n",
    "import pandas as pd \n",
    "import matplotlib\n",
    "%matplotlib inline"
   ]
  },
  {
   "cell_type": "markdown",
   "metadata": {},
   "source": [
    "### B. Lire la documentation de l'API "
   ]
  },
  {
   "cell_type": "markdown",
   "metadata": {},
   "source": [
    "Nous allons utiliser l'API Open data de l'urssaf afin d'analyser l'impact du Covid sur les impayés des entreprises de plus de 10 salariés. \n",
    "\n",
    "Le jeu de donnée est présenté sur cette [page](https://open.urssaf.fr/explore/dataset/taux-rar-horsto-mensuels-entreprises-de-10-salaries-ou-plus/information/) \n"
   ]
  },
  {
   "cell_type": "markdown",
   "metadata": {},
   "source": [
    "# C'est parti 💪"
   ]
  },
  {
   "cell_type": "markdown",
   "metadata": {},
   "source": [
    "## A. Récupérer les données "
   ]
  },
  {
   "cell_type": "markdown",
   "metadata": {},
   "source": [
    "### 1. En lisant la documentation de la base de données, pouvez-vous dire quelle est la fréquence d'actualisation du jeu de données ? "
   ]
  },
  {
   "cell_type": "raw",
   "metadata": {},
   "source": [
    "# Votre réponse ici "
   ]
  },
  {
   "cell_type": "markdown",
   "metadata": {},
   "source": [
    "<details><summary>Solution</summary>\n",
    "\n",
    "Le jeu de données est actualisé tous les 20 jours. C'est l'avantage de passer par une API. En requêtant la même URL les données seront mises à jour toutes seules. \n",
    "\n",
    "</details>"
   ]
  },
  {
   "cell_type": "markdown",
   "metadata": {},
   "source": [
    "### 2. Allez dans l'onglet [API](https://open.urssaf.fr/explore/dataset/taux-rar-horsto-mensuels-entreprises-de-10-salaries-ou-plus/api/), regardez la structure de la réponse et stockez l'url à appeler dans une variable appelée `url`. "
   ]
  },
  {
   "cell_type": "code",
   "execution_count": 14,
   "metadata": {},
   "outputs": [],
   "source": [
    "# Votre code ici "
   ]
  },
  {
   "cell_type": "markdown",
   "metadata": {},
   "source": [
    "<details><summary>Solution</summary>\n",
    "\n",
    "```python \n",
    "url=\"https://open.urssaf.fr/api/records/1.0/search/?dataset=taux-rar-horsto-mensuels-entreprises-de-10-salaries-ou-plus&q=&rows=10&facet=dernier_jour_du_mois\"\n",
    "```\n",
    "\n",
    "</details>\n",
    "\n"
   ]
  },
  {
   "cell_type": "markdown",
   "metadata": {},
   "source": [
    "### 3. Requêtez cette url et stockez le résultat dans une variable `response`."
   ]
  },
  {
   "cell_type": "code",
   "execution_count": 13,
   "metadata": {},
   "outputs": [],
   "source": [
    "# Votre code ici "
   ]
  },
  {
   "cell_type": "markdown",
   "metadata": {},
   "source": [
    "<details><summary>Solution</summary>\n",
    "\n",
    "```python \n",
    "response = requests.get(url)\n",
    "```\n",
    "\n",
    "</details>\n",
    "\n"
   ]
  },
  {
   "cell_type": "markdown",
   "metadata": {},
   "source": [
    "### 4. Vérifiez que le code de la réponse est bien 200 "
   ]
  },
  {
   "cell_type": "code",
   "execution_count": 170,
   "metadata": {},
   "outputs": [],
   "source": [
    "# Votre code ici "
   ]
  },
  {
   "cell_type": "markdown",
   "metadata": {},
   "source": [
    "<details><summary>Solution</summary>\n",
    "\n",
    "```python \n",
    "print(response.status_code) # Le code 200 si tout est OK\n",
    "```\n",
    "\n",
    "</details>\n",
    "\n"
   ]
  },
  {
   "cell_type": "markdown",
   "metadata": {},
   "source": [
    "### 5. Parsez la réponse en json et stockez-la dans une variable `data` "
   ]
  },
  {
   "cell_type": "code",
   "execution_count": 12,
   "metadata": {},
   "outputs": [],
   "source": [
    "# Votre code ici "
   ]
  },
  {
   "cell_type": "markdown",
   "metadata": {},
   "source": [
    "<details><summary>Solution</summary>\n",
    "\n",
    "```python \n",
    "data = response.json()\n",
    "data\n",
    "```\n",
    "\n",
    "</details>\n",
    "\n"
   ]
  },
  {
   "cell_type": "markdown",
   "metadata": {},
   "source": [
    "### 6. Trouvez où sont les données. \n",
    "\n",
    "La structure des données obtenues est compliquée, prenez votre temps pour l'analyser. Votre objectif est de localiser précisément les données qui vous intéressent et de définir le chemin d'accès. \n",
    "\n",
    "Pour tester votre compréhension, extrayez la première ligne de données de la réponse. "
   ]
  },
  {
   "cell_type": "code",
   "execution_count": 172,
   "metadata": {},
   "outputs": [],
   "source": [
    "# Votre code ici"
   ]
  },
  {
   "cell_type": "markdown",
   "metadata": {},
   "source": [
    "<details><summary>Solution</summary>\n",
    "\n",
    "    \n",
    "En regardant la structure de la réponse, nous nous rendons compte que la réponse est un `dictionnaire`. Les données qui nous intéressent sont stockées dans une liste au niveau de la clé `records`. \n",
    "\n",
    "\n",
    "```python \n",
    "data = {\n",
    "    ... \n",
    "    \"records\": [\n",
    "        {\n",
    "            ...\n",
    "            \"fields\" = {\n",
    "                # Les données sont ici \n",
    "            }\n",
    "        }\n",
    "    ]\n",
    "}\n",
    "```\n",
    "    \n",
    "Pour afficher la première ligne il faut donc taper \n",
    "\n",
    "```python \n",
    "    data[\"records\"][0][\"fields\"]\n",
    "```\n",
    "    \n",
    "</details>\n"
   ]
  },
  {
   "cell_type": "markdown",
   "metadata": {},
   "source": [
    "### 6. Créez une boucle pour manipuler la réponse et stockez les dictionnaires qui nous intéressent dans une liste appelée `fields`"
   ]
  },
  {
   "cell_type": "code",
   "execution_count": 11,
   "metadata": {},
   "outputs": [],
   "source": [
    "# Votre code ici "
   ]
  },
  {
   "cell_type": "markdown",
   "metadata": {},
   "source": [
    "<details><summary>Solution</summary>\n",
    "\n",
    "```python \n",
    "fields = []\n",
    "for record in data[\"records\"]:\n",
    "    fields.append(record[\"fields\"])\n",
    "```\n",
    "        \n",
    "</details>\n"
   ]
  },
  {
   "cell_type": "markdown",
   "metadata": {},
   "source": [
    "## B. Construire et préparer le DataFrame "
   ]
  },
  {
   "cell_type": "markdown",
   "metadata": {},
   "source": [
    "### 1. Transformez cette liste en DataFrame"
   ]
  },
  {
   "cell_type": "code",
   "execution_count": 174,
   "metadata": {},
   "outputs": [],
   "source": [
    "# Votre code ici "
   ]
  },
  {
   "cell_type": "markdown",
   "metadata": {},
   "source": [
    "<details><summary>Solution</summary>\n",
    "\n",
    "```python \n",
    "df = pd.DataFrame(fields)\n",
    "```\n",
    "        \n",
    "</details>\n"
   ]
  },
  {
   "cell_type": "markdown",
   "metadata": {},
   "source": [
    "### 2. Affichez les 5 premières ligne de ce DataFrame "
   ]
  },
  {
   "cell_type": "code",
   "execution_count": 175,
   "metadata": {},
   "outputs": [],
   "source": [
    "# Votre code ici "
   ]
  },
  {
   "cell_type": "markdown",
   "metadata": {},
   "source": [
    "<details><summary>Solution</summary>\n",
    "\n",
    "```python \n",
    "df.head()\n",
    "```\n",
    "        \n",
    "</details>\n"
   ]
  },
  {
   "cell_type": "markdown",
   "metadata": {},
   "source": [
    "### 3. Regardez le type des données du DataFrame "
   ]
  },
  {
   "cell_type": "code",
   "execution_count": 176,
   "metadata": {},
   "outputs": [],
   "source": [
    "# Votre code ici "
   ]
  },
  {
   "cell_type": "markdown",
   "metadata": {},
   "source": [
    "<details><summary>Solution</summary>\n",
    "\n",
    "```python \n",
    "df.dtypes\n",
    "```\n",
    "        \n",
    "</details>\n"
   ]
  },
  {
   "cell_type": "markdown",
   "metadata": {},
   "source": [
    "### 4. Le type de `dernier_jour_du_mois` est un objet. Transformez-le en date  "
   ]
  },
  {
   "cell_type": "code",
   "execution_count": 177,
   "metadata": {},
   "outputs": [],
   "source": [
    "# Votre code ici "
   ]
  },
  {
   "cell_type": "markdown",
   "metadata": {},
   "source": [
    "<details><summary>Indice 1 </summary>\n",
    "\n",
    "Pour savoir comment faire la <a href=\"https://pandas.pydata.org/pandas-docs/stable/reference/api/pandas.to_datetime.html\n",
    "    \" target=\"_blank\"> documentation</a> est toujours une bonne piste. En allant voir les exemples on trouve souvent la solution. \n",
    "        \n",
    "</details>\n"
   ]
  },
  {
   "cell_type": "markdown",
   "metadata": {},
   "source": [
    "<details><summary>Indice 2</summary>\n",
    "\n",
    "Lire la <a href=\"https://docs.python.org/3/library/datetime.html#strftime-and-strptime-format-codes\" target=\"_blank\"> documentation</a> sur les formats des dates en python\n",
    "        \n",
    "</details>\n"
   ]
  },
  {
   "cell_type": "markdown",
   "metadata": {},
   "source": [
    "<details><summary>Solution</summary>\n",
    "\n",
    "```python \n",
    "    df['dernier_jour_du_mois'] = pd.to_datetime(df['dernier_jour_du_mois'], format= '%Y/%m/%d')\n",
    "```\n",
    "</details>\n"
   ]
  },
  {
   "cell_type": "markdown",
   "metadata": {},
   "source": [
    "### 5. Classez les données par date croissante \n"
   ]
  },
  {
   "cell_type": "code",
   "execution_count": 178,
   "metadata": {},
   "outputs": [],
   "source": [
    "# Votre code ici "
   ]
  },
  {
   "cell_type": "markdown",
   "metadata": {},
   "source": [
    "<details><summary>Solution</summary>\n",
    "\n",
    "```python \n",
    "df = df.sort_values('dernier_jour_du_mois', ascending=True)\n",
    "```\n",
    "</details>\n"
   ]
  },
  {
   "cell_type": "markdown",
   "metadata": {},
   "source": [
    "### 6. Dessinez le taux d'impayés en fin de mois en fonction de la date "
   ]
  },
  {
   "cell_type": "code",
   "execution_count": 1,
   "metadata": {},
   "outputs": [],
   "source": [
    "# Votre code ici "
   ]
  },
  {
   "cell_type": "markdown",
   "metadata": {},
   "source": [
    "<details><summary>Solution</summary>\n",
    "\n",
    "```python \n",
    "df.plot(x='dernier_jour_du_mois',y='taux_d_impayes_fin_de_mois')\n",
    "```\n",
    "</details>\n"
   ]
  }
 ],
 "metadata": {
  "kernelspec": {
   "display_name": "Python 3",
   "language": "python",
   "name": "python3"
  },
  "language_info": {
   "codemirror_mode": {
    "name": "ipython",
    "version": 3
   },
   "file_extension": ".py",
   "mimetype": "text/x-python",
   "name": "python",
   "nbconvert_exporter": "python",
   "pygments_lexer": "ipython3",
   "version": "3.6.4"
  }
 },
 "nbformat": 4,
 "nbformat_minor": 4
}
