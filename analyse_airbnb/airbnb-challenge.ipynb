{
 "cells": [
  {
   "cell_type": "markdown",
   "metadata": {},
   "source": [
    "# Setup 💻"
   ]
  },
  {
   "cell_type": "markdown",
   "metadata": {},
   "source": [
    "### A. Importer Pandas"
   ]
  },
  {
   "cell_type": "code",
   "execution_count": null,
   "metadata": {
    "ExecuteTime": {
     "end_time": "2020-09-26T10:23:12.780709Z",
     "start_time": "2020-09-26T10:23:12.777522Z"
    }
   },
   "outputs": [],
   "source": [
    "import pandas as pd"
   ]
  },
  {
   "cell_type": "markdown",
   "metadata": {
    "ExecuteTime": {
     "end_time": "2020-09-26T10:23:42.107215Z",
     "start_time": "2020-09-26T10:23:41.980058Z"
    }
   },
   "source": [
    "### B. Importer les données d'Airbnb dans un dataframe"
   ]
  },
  {
   "cell_type": "code",
   "execution_count": null,
   "metadata": {
    "ExecuteTime": {
     "end_time": "2020-09-26T10:24:23.130359Z",
     "start_time": "2020-09-26T10:24:22.975605Z"
    }
   },
   "outputs": [],
   "source": [
    "listings_df = pd.read_csv('https://storage.googleapis.com/introduction-to-data-science/airbnb-dataset.csv')"
   ]
  },
  {
   "cell_type": "markdown",
   "metadata": {},
   "source": [
    "--------"
   ]
  },
  {
   "cell_type": "markdown",
   "metadata": {},
   "source": [
    "# C'est parti 💪"
   ]
  },
  {
   "cell_type": "markdown",
   "metadata": {},
   "source": [
    "## A. Manipuler un dataframe"
   ]
  },
  {
   "cell_type": "markdown",
   "metadata": {},
   "source": [
    "### Pouvez-vous jeter un oeil à ce datagrame en affichant les 5 premières lignes ? "
   ]
  },
  {
   "cell_type": "code",
   "execution_count": null,
   "metadata": {},
   "outputs": [],
   "source": [
    "# Votre code ici 💪"
   ]
  },
  {
   "cell_type": "markdown",
   "metadata": {},
   "source": [
    "<details><summary>Solution</summary>\n",
    "\n",
    "\n",
    "```python\n",
    "listings_df.head(5)\n",
    "```\n",
    "\n",
    "\n",
    "</details>"
   ]
  },
  {
   "cell_type": "markdown",
   "metadata": {},
   "source": [
    "### Combien de lignes et de colonnes sont présentes dans ce dataframe ? "
   ]
  },
  {
   "cell_type": "code",
   "execution_count": null,
   "metadata": {},
   "outputs": [],
   "source": [
    "# Votre code ici 💪"
   ]
  },
  {
   "cell_type": "markdown",
   "metadata": {
    "ExecuteTime": {
     "end_time": "2020-09-26T10:25:13.728391Z",
     "start_time": "2020-09-26T10:25:13.718289Z"
    }
   },
   "source": [
    "<details><summary>Solution</summary>\n",
    "\n",
    "\n",
    "```python\n",
    "listings_df.shape\n",
    "```\n",
    "\n",
    "\n",
    "</details>"
   ]
  },
  {
   "cell_type": "markdown",
   "metadata": {},
   "source": [
    "### Quelles sont les colonnes (features) de ce dataframe ? "
   ]
  },
  {
   "cell_type": "code",
   "execution_count": null,
   "metadata": {},
   "outputs": [],
   "source": [
    "# Votre code ici 💪"
   ]
  },
  {
   "cell_type": "markdown",
   "metadata": {
    "ExecuteTime": {
     "end_time": "2020-09-26T10:25:44.752149Z",
     "start_time": "2020-09-26T10:25:44.747683Z"
    }
   },
   "source": [
    "<details><summary>Solution</summary>\n",
    "\n",
    "\n",
    "```python\n",
    "listings_df.columns\n",
    "```\n",
    "\n",
    "\n",
    "</details>"
   ]
  },
  {
   "cell_type": "markdown",
   "metadata": {},
   "source": [
    "### Quels sont les types de data dans ce dataframe ? "
   ]
  },
  {
   "cell_type": "code",
   "execution_count": null,
   "metadata": {},
   "outputs": [],
   "source": [
    "# Your code goes here 💪"
   ]
  },
  {
   "cell_type": "markdown",
   "metadata": {
    "ExecuteTime": {
     "end_time": "2020-09-26T10:25:58.602929Z",
     "start_time": "2020-09-26T10:25:58.596505Z"
    }
   },
   "source": [
    "<details><summary>Solution</summary>\n",
    "\n",
    "\n",
    "```python\n",
    "listings_df.dtypes\n",
    "```\n",
    "\n",
    "\n",
    "</details>"
   ]
  },
  {
   "cell_type": "markdown",
   "metadata": {},
   "source": [
    "Maintenant nettoyons ce dataframe  👌"
   ]
  },
  {
   "cell_type": "markdown",
   "metadata": {},
   "source": [
    "### Est-ce qu'il manque des valeurs ? "
   ]
  },
  {
   "cell_type": "code",
   "execution_count": null,
   "metadata": {},
   "outputs": [],
   "source": [
    "# Votre code ici 💪"
   ]
  },
  {
   "cell_type": "markdown",
   "metadata": {
    "ExecuteTime": {
     "end_time": "2020-09-26T10:29:21.588029Z",
     "start_time": "2020-09-26T10:29:21.567087Z"
    }
   },
   "source": [
    "<details><summary>Solution</summary>\n",
    "\n",
    "\n",
    "```python\n",
    "listings_df.isnull().sum()\n",
    "```\n",
    "</details>"
   ]
  },
  {
   "cell_type": "markdown",
   "metadata": {},
   "source": [
    "Nous ne voulons pas analyser les données sur les `host_name`, `last_reviews` et `id`. Est-ce que vous pouvez les supprimer."
   ]
  },
  {
   "cell_type": "markdown",
   "metadata": {},
   "source": [
    "### Pouvez-vous supprimer les colonnes `id`, `host_name`, `last_review` ?"
   ]
  },
  {
   "cell_type": "code",
   "execution_count": null,
   "metadata": {},
   "outputs": [],
   "source": [
    "# Votre code ici 💪"
   ]
  },
  {
   "cell_type": "markdown",
   "metadata": {
    "ExecuteTime": {
     "end_time": "2020-09-26T10:32:04.780441Z",
     "start_time": "2020-09-26T10:32:04.769997Z"
    }
   },
   "source": [
    "<details><summary>Solution</summary>\n",
    "\n",
    "\n",
    "```python\n",
    "columns_to_drop = ['id', 'host_name', 'last_review']\n",
    "listings_df.drop(columns_to_drop, axis=\"columns\", inplace=True)\n",
    "```\n",
    "\n",
    "</details>"
   ]
  },
  {
   "cell_type": "code",
   "execution_count": null,
   "metadata": {
    "ExecuteTime": {
     "end_time": "2020-09-26T10:32:29.146617Z",
     "start_time": "2020-09-26T10:32:29.130003Z"
    }
   },
   "outputs": [],
   "source": [
    "# Regardons le résultat en affichant les premières lignes de notre dataframe  👇\n",
    "listings_df.head()"
   ]
  },
  {
   "cell_type": "markdown",
   "metadata": {},
   "source": [
    "Nous pouvons voir un certain nombres de `NaN` dans la colonnes `reviews_per_month`"
   ]
  },
  {
   "cell_type": "markdown",
   "metadata": {},
   "source": [
    "### Est-ce que vous pouvez remplacer les  `NaN` dans `reviews_per_month` par `0`?"
   ]
  },
  {
   "cell_type": "code",
   "execution_count": null,
   "metadata": {},
   "outputs": [],
   "source": [
    "# Votre code ici 💪"
   ]
  },
  {
   "cell_type": "markdown",
   "metadata": {
    "ExecuteTime": {
     "end_time": "2020-09-26T10:35:19.013452Z",
     "start_time": "2020-09-26T10:35:19.009348Z"
    }
   },
   "source": [
    "<details><summary>Solution</summary>\n",
    "\n",
    "\n",
    "```python\n",
    "listings_df.fillna({'reviews_per_month': 0}, inplace=True)\n",
    "```\n",
    "\n",
    "</details>"
   ]
  },
  {
   "cell_type": "code",
   "execution_count": null,
   "metadata": {
    "ExecuteTime": {
     "end_time": "2020-09-26T10:35:26.355483Z",
     "start_time": "2020-09-26T10:35:26.337907Z"
    }
   },
   "outputs": [],
   "source": [
    "# Regardons le résultat 👇\n",
    "listings_df.head()"
   ]
  },
  {
   "cell_type": "markdown",
   "metadata": {},
   "source": [
    "### Est-ce que vous pouvez afficher uniquement les colonnes  `name`, `neighbourhood_group`, `price` de ce dataframe ? "
   ]
  },
  {
   "cell_type": "code",
   "execution_count": null,
   "metadata": {},
   "outputs": [],
   "source": [
    "# Votre code ici 💪"
   ]
  },
  {
   "cell_type": "markdown",
   "metadata": {
    "ExecuteTime": {
     "end_time": "2020-09-26T10:36:30.910576Z",
     "start_time": "2020-09-26T10:36:30.894997Z"
    }
   },
   "source": [
    "<details><summary>Solution</summary>\n",
    "\n",
    "\n",
    "```python\n",
    "listings_df[['name', 'neighbourhood_group', 'price']]\n",
    "```\n",
    "\n",
    "</details>"
   ]
  },
  {
   "cell_type": "markdown",
   "metadata": {},
   "source": [
    "###  Pouvez-vous afficher les 9 premières lignes de ce dataset ? "
   ]
  },
  {
   "cell_type": "code",
   "execution_count": null,
   "metadata": {},
   "outputs": [],
   "source": [
    "# Votre code ici 💪"
   ]
  },
  {
   "cell_type": "markdown",
   "metadata": {
    "ExecuteTime": {
     "end_time": "2020-09-26T10:37:45.587759Z",
     "start_time": "2020-09-26T10:37:45.568697Z"
    }
   },
   "source": [
    "<details><summary>Solution</summary>\n",
    "\n",
    "\n",
    "```python\n",
    "listings_df[0:9]\n",
    "```\n",
    "\n",
    "</details>"
   ]
  },
  {
   "cell_type": "markdown",
   "metadata": {},
   "source": [
    "### Pouvez-vous afficher les 9 premières lignes de ce dataset en visualisant uniquement les colonnes  `name`, `neighbourhood_group`, `price` ?"
   ]
  },
  {
   "cell_type": "code",
   "execution_count": null,
   "metadata": {},
   "outputs": [],
   "source": [
    "# Votre code ici 💪"
   ]
  },
  {
   "cell_type": "markdown",
   "metadata": {
    "ExecuteTime": {
     "end_time": "2020-09-26T10:38:05.622816Z",
     "start_time": "2020-09-26T10:38:05.611899Z"
    }
   },
   "source": [
    "<details><summary>Solution</summary>\n",
    "\n",
    "\n",
    "```python\n",
    "listings_df[0:9][['name', 'neighbourhood_group', 'price']]\n",
    "```\n",
    "\n",
    "</details>"
   ]
  },
  {
   "cell_type": "markdown",
   "metadata": {},
   "source": [
    "### Affichez les appartements qui ont un prix en dessous de `100` $ "
   ]
  },
  {
   "cell_type": "code",
   "execution_count": null,
   "metadata": {},
   "outputs": [],
   "source": [
    "# Votre code ici 💪"
   ]
  },
  {
   "cell_type": "markdown",
   "metadata": {
    "ExecuteTime": {
     "end_time": "2020-09-26T10:41:26.856951Z",
     "start_time": "2020-09-26T10:41:26.847719Z"
    }
   },
   "source": [
    "<details><summary>Solution</summary>\n",
    "\n",
    "\n",
    "```python\n",
    "listings_df[listings_df['price'] < 100]\n",
    "```\n",
    "\n",
    "</details>"
   ]
  },
  {
   "cell_type": "markdown",
   "metadata": {},
   "source": [
    "## B. Exploration et analyse de la donnée "
   ]
  },
  {
   "cell_type": "markdown",
   "metadata": {},
   "source": [
    "### Quelles sont les 10 appartements les plus notés ? "
   ]
  },
  {
   "cell_type": "code",
   "execution_count": null,
   "metadata": {
    "ExecuteTime": {
     "end_time": "2020-09-26T12:40:55.113645Z",
     "start_time": "2020-09-26T12:40:55.098188Z"
    }
   },
   "outputs": [],
   "source": [
    "# Votre code ici 💪"
   ]
  },
  {
   "cell_type": "markdown",
   "metadata": {
    "ExecuteTime": {
     "end_time": "2020-09-26T12:41:25.325065Z",
     "start_time": "2020-09-26T12:41:25.296474Z"
    }
   },
   "source": [
    "<details><summary>Solution</summary>\n",
    "\n",
    "\n",
    "```python\n",
    "listings_df.nlargest(10, 'number_of_reviews')\n",
    "```\n",
    "\n",
    "</details>"
   ]
  },
  {
   "cell_type": "markdown",
   "metadata": {},
   "source": [
    "### Quels sont les quartiers de NY ? "
   ]
  },
  {
   "cell_type": "code",
   "execution_count": null,
   "metadata": {},
   "outputs": [],
   "source": [
    "# Votre code ici 💪"
   ]
  },
  {
   "cell_type": "markdown",
   "metadata": {},
   "source": [
    "<details><summary>Solution</summary>\n",
    "\n",
    "\n",
    "```python\n",
    "listings_df['neighbourhood'].unique()\n",
    "```\n",
    "\n",
    "</p>\n",
    "</details>"
   ]
  },
  {
   "cell_type": "markdown",
   "metadata": {},
   "source": [
    "### Quels sont les principaux arrondissements (`neighourhood group`) de NY  ?"
   ]
  },
  {
   "cell_type": "code",
   "execution_count": null,
   "metadata": {},
   "outputs": [],
   "source": [
    "# Votre code ici 💪"
   ]
  },
  {
   "cell_type": "markdown",
   "metadata": {
    "ExecuteTime": {
     "end_time": "2020-09-26T12:48:56.425931Z",
     "start_time": "2020-09-26T12:48:56.419651Z"
    }
   },
   "source": [
    "<details><summary>Solution</summary>\n",
    "\n",
    "\n",
    "```python\n",
    "listings_df['neighbourhood_group'].unique()\n",
    "```\n",
    "\n",
    "</p>\n",
    "</details>"
   ]
  },
  {
   "cell_type": "markdown",
   "metadata": {},
   "source": [
    "### Combien y a-t-il d'appartements dans chaque arrondissement ? "
   ]
  },
  {
   "cell_type": "code",
   "execution_count": null,
   "metadata": {},
   "outputs": [],
   "source": [
    "# Votre code ici 💪"
   ]
  },
  {
   "cell_type": "markdown",
   "metadata": {
    "ExecuteTime": {
     "end_time": "2020-09-26T12:54:29.150430Z",
     "start_time": "2020-09-26T12:54:29.139887Z"
    },
    "scrolled": true
   },
   "source": [
    "<details><summary>Solution</summary>\n",
    "\n",
    "\n",
    "```python\n",
    "listings_df['neighbourhood_group'].value_counts()\n",
    "```\n",
    "\n",
    "</p>\n",
    "</details>"
   ]
  },
  {
   "cell_type": "markdown",
   "metadata": {},
   "source": [
    "### Quels sont les 10 plus gros quartiers  (en nombre d'appartements) ? \n"
   ]
  },
  {
   "cell_type": "code",
   "execution_count": null,
   "metadata": {},
   "outputs": [],
   "source": [
    "# Votre code ici 💪"
   ]
  },
  {
   "cell_type": "markdown",
   "metadata": {},
   "source": [
    "<details><summary>Solution</summary>\n",
    "\n",
    "\n",
    "```python\n",
    "listings_df['neighbourhood'].value_counts().head(10)\n",
    "```\n",
    "\n",
    "</p>\n",
    "</details>"
   ]
  },
  {
   "cell_type": "markdown",
   "metadata": {},
   "source": [
    "### Pouvez-vous dessiner la répartition des 10 plus gros quartiers sur un histogramme ? \n",
    "\n"
   ]
  },
  {
   "cell_type": "code",
   "execution_count": null,
   "metadata": {},
   "outputs": [],
   "source": [
    "# Votre code ici 💪"
   ]
  },
  {
   "cell_type": "markdown",
   "metadata": {
    "ExecuteTime": {
     "end_time": "2020-09-26T12:57:49.736620Z",
     "start_time": "2020-09-26T12:57:49.066896Z"
    },
    "scrolled": true
   },
   "source": [
    "<details><summary>Solution</summary>\n",
    "\n",
    "\n",
    "```python\n",
    "listings_df['neighbourhood'].value_counts().head(10).plot(kind='bar')\n",
    "```\n",
    "\n",
    "</p>\n",
    "</details>"
   ]
  },
  {
   "cell_type": "code",
   "execution_count": null,
   "metadata": {
    "ExecuteTime": {
     "end_time": "2020-09-26T13:09:06.400231Z",
     "start_time": "2020-09-26T13:09:06.397482Z"
    }
   },
   "outputs": [],
   "source": [
    "# Nous pouvons utiliser la librairie seaborn pour avoir des graphiques plus beaux. Nous reviendrons la dessus dans deux semaines \n",
    "import seaborn as sns  #importing the seaborn\n",
    "sns.countplot(data=listings_df, x='neighbourhood_group')"
   ]
  },
  {
   "cell_type": "markdown",
   "metadata": {},
   "source": [
    "### Quels sont les différents types de chambres ? "
   ]
  },
  {
   "cell_type": "code",
   "execution_count": null,
   "metadata": {},
   "outputs": [],
   "source": [
    "# Votre code ici 💪"
   ]
  },
  {
   "cell_type": "markdown",
   "metadata": {
    "ExecuteTime": {
     "end_time": "2020-09-26T13:24:14.859121Z",
     "start_time": "2020-09-26T13:24:14.852424Z"
    }
   },
   "source": [
    "<details><summary>Solution</summary>\n",
    "\n",
    "\n",
    "```python\n",
    "listings_df['room_type'].unique()\n",
    "```\n",
    "\n",
    "\n",
    "</details>"
   ]
  },
  {
   "cell_type": "markdown",
   "metadata": {},
   "source": [
    "### Pouvez-vous dessiner la répartition des types de chambres par arrondissement ? "
   ]
  },
  {
   "cell_type": "code",
   "execution_count": null,
   "metadata": {},
   "outputs": [],
   "source": [
    "# Votre code ici 💪 (en utilisant la librairie seaborn !) "
   ]
  },
  {
   "cell_type": "markdown",
   "metadata": {
    "ExecuteTime": {
     "end_time": "2020-09-26T13:27:53.319619Z",
     "start_time": "2020-09-26T13:27:53.077122Z"
    }
   },
   "source": [
    "<details><summary>Solution</summary>\n",
    "\n",
    "\n",
    "```python\n",
    "sns.countplot(data=listings_df, x='neighbourhood_group', hue='room_type')\n",
    "```\n",
    "\n",
    "</details>"
   ]
  },
  {
   "cell_type": "markdown",
   "metadata": {},
   "source": [
    "### Quelle est la distribution des prix d'appartement ? "
   ]
  },
  {
   "cell_type": "code",
   "execution_count": null,
   "metadata": {},
   "outputs": [],
   "source": [
    "# Votre code ici 💪 (en utilisant la librairie seaborn !) "
   ]
  },
  {
   "cell_type": "markdown",
   "metadata": {
    "ExecuteTime": {
     "end_time": "2020-09-26T13:30:04.908699Z",
     "start_time": "2020-09-26T13:30:04.660182Z"
    }
   },
   "source": [
    "<details><summary>Solution</summary>\n",
    "\n",
    "\n",
    "```python\n",
    "sns.displot(listings_df['price'])\n",
    "```\n",
    "\n",
    "</p>\n",
    "</details>"
   ]
  },
  {
   "cell_type": "markdown",
   "metadata": {},
   "source": [
    "### Pouvez-vous dessiner la répartition des appartements qui ont un prix en dessous de `500` $ ? "
   ]
  },
  {
   "cell_type": "code",
   "execution_count": null,
   "metadata": {},
   "outputs": [],
   "source": [
    "# Votre code ici 💪 (en utilisant la librairie seaborn !) "
   ]
  },
  {
   "cell_type": "markdown",
   "metadata": {
    "ExecuteTime": {
     "end_time": "2020-09-26T13:42:50.361175Z",
     "start_time": "2020-09-26T13:42:50.351598Z"
    }
   },
   "source": [
    "<details><summary>Solution</summary>\n",
    "\n",
    "\n",
    "```python\n",
    "affordable_df = listings_df[listings_df['price'] <= 500]\n",
    "sns.displot(affordable_df['price'])\n",
    "```\n",
    "</details>"
   ]
  },
  {
   "cell_type": "markdown",
   "metadata": {},
   "source": [
    "### Quel est le prix moyen d'un appartement ? "
   ]
  },
  {
   "cell_type": "code",
   "execution_count": null,
   "metadata": {},
   "outputs": [],
   "source": [
    "# Votre code ici 💪"
   ]
  },
  {
   "cell_type": "markdown",
   "metadata": {
    "ExecuteTime": {
     "end_time": "2020-09-26T13:43:28.850219Z",
     "start_time": "2020-09-26T13:43:28.844823Z"
    }
   },
   "source": [
    "<details><summary>Solution</summary>\n",
    "\n",
    "\n",
    "```python\n",
    "affordable_df['price'].mean()\n",
    "```\n",
    "</details>"
   ]
  },
  {
   "cell_type": "markdown",
   "metadata": {},
   "source": [
    "### Quelle est la distribution des prix d'appartement en fonction des arrondissements ? "
   ]
  },
  {
   "cell_type": "code",
   "execution_count": null,
   "metadata": {},
   "outputs": [],
   "source": [
    "# Maintenant nous allons utiliser matplotlib, importons-la 👇 (N'oubliez pas d'éxécuter cette cellule)\n",
    "from matplotlib import pyplot as plt"
   ]
  },
  {
   "cell_type": "code",
   "execution_count": null,
   "metadata": {
    "ExecuteTime": {
     "end_time": "2020-09-26T13:50:39.076310Z",
     "start_time": "2020-09-26T13:50:39.074066Z"
    }
   },
   "outputs": [],
   "source": [
    "# Votre code ici 💪 (en utilisant la librairie matplotlib !) "
   ]
  },
  {
   "cell_type": "markdown",
   "metadata": {
    "ExecuteTime": {
     "end_time": "2020-09-26T13:51:12.242269Z",
     "start_time": "2020-09-26T13:51:11.885882Z"
    }
   },
   "source": [
    "<details><summary>Solution</summary>\n",
    "\n",
    "\n",
    "```python\n",
    "plt.figure(figsize=(15, 8))\n",
    "sns.violinplot(data=affordable_df, x=\"neighbourhood_group\", y=\"price\")\n",
    "```\n",
    "</details>"
   ]
  },
  {
   "cell_type": "markdown",
   "metadata": {},
   "source": [
    "### Pouvez-vous dessiner les appartements sur une carte ? "
   ]
  },
  {
   "cell_type": "code",
   "execution_count": null,
   "metadata": {},
   "outputs": [],
   "source": [
    "# Votre code ici 💪 "
   ]
  },
  {
   "cell_type": "markdown",
   "metadata": {
    "ExecuteTime": {
     "end_time": "2020-09-26T13:58:02.860921Z",
     "start_time": "2020-09-26T13:58:02.845351Z"
    }
   },
   "source": [
    "\n",
    "<details><summary>Solution</summary>\n",
    "\n",
    "\n",
    "```python\n",
    "affordable_df.plot(\n",
    "    kind='scatter',\n",
    "    x='longitude',\n",
    "    y='latitude',\n",
    "    c='price',\n",
    "    cmap='inferno',\n",
    "    colorbar=True,\n",
    "    alpha=0.8,\n",
    "    figsize=(12,8))\n",
    "```\n",
    "</details>"
   ]
  },
  {
   "cell_type": "markdown",
   "metadata": {
    "ExecuteTime": {
     "end_time": "2020-09-26T13:59:19.754206Z",
     "start_time": "2020-09-26T13:59:18.679774Z"
    }
   },
   "source": [
    "\n",
    "<details><summary>Solution</summary>\n",
    "\n",
    "\n",
    "```python\n",
    "import urllib\n",
    "\n",
    "i = urllib.request.urlopen('https://upload.wikimedia.org/wikipedia/commons/e/ec/Neighbourhoods_New_York_City_Map.PNG')\n",
    "plt.imshow(plt.imread(i), zorder=0, extent=[-74.258, -73.7, 40.49, 40.92])\n",
    "ax = plt.gca()\n",
    "affordable_df.plot(\n",
    "    ax=ax,\n",
    "    zorder=1,\n",
    "    kind='scatter',\n",
    "    x='longitude',\n",
    "    y='latitude',\n",
    "    c='price',\n",
    "    cmap='inferno',\n",
    "    colorbar=True,\n",
    "    alpha=0.8,\n",
    "    figsize=(12,8))\n",
    "```\n",
    "</details>"
   ]
  }
 ],
 "metadata": {
  "kernelspec": {
   "display_name": "Python 3 (ipykernel)",
   "language": "python",
   "name": "python3"
  },
  "language_info": {
   "codemirror_mode": {
    "name": "ipython",
    "version": 3
   },
   "file_extension": ".py",
   "mimetype": "text/x-python",
   "name": "python",
   "nbconvert_exporter": "python",
   "pygments_lexer": "ipython3",
   "version": "3.8.6"
  },
  "toc": {
   "base_numbering": 1,
   "nav_menu": {},
   "number_sections": true,
   "sideBar": true,
   "skip_h1_title": false,
   "title_cell": "Table of Contents",
   "title_sidebar": "Contents",
   "toc_cell": false,
   "toc_position": {},
   "toc_section_display": true,
   "toc_window_display": false
  },
  "varInspector": {
   "cols": {
    "lenName": 16,
    "lenType": 16,
    "lenVar": 40
   },
   "kernels_config": {
    "python": {
     "delete_cmd_postfix": "",
     "delete_cmd_prefix": "del ",
     "library": "var_list.py",
     "varRefreshCmd": "print(var_dic_list())"
    },
    "r": {
     "delete_cmd_postfix": ") ",
     "delete_cmd_prefix": "rm(",
     "library": "var_list.r",
     "varRefreshCmd": "cat(var_dic_list()) "
    }
   },
   "types_to_exclude": [
    "module",
    "function",
    "builtin_function_or_method",
    "instance",
    "_Feature"
   ],
   "window_display": false
  }
 },
 "nbformat": 4,
 "nbformat_minor": 4
}
