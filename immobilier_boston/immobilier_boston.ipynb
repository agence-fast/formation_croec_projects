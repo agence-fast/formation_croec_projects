{
 "cells": [
  {
   "cell_type": "markdown",
   "metadata": {},
   "source": [
    "# Enoncé \n",
    "\n",
    "\n",
    "Nous allons utiliser un jeu de données décrivant le prix des maisons dans différentes zones de Boston. "
   ]
  },
  {
   "cell_type": "markdown",
   "metadata": {},
   "source": [
    "👉 Le jeu de données :\n",
    "\n",
    "|Variable|Description|\n",
    "|:---|:----|\n",
    "| `CRIM`     | per capita crime rate by town |\n",
    "| `ZN`       | proportion of residential land zoned for lots over 25,000 sq.ft. |\n",
    "| `INDUS`    | proportion of non-retail business acres per town |\n",
    "| `CHAS`     | Charles River dummy variable (= 1 if tract bounds river; 0 otherwise) |\n",
    "| `NOX`      | nitric oxides concentration (parts per 10 million) |\n",
    "| `RM`       | average number of rooms per dwelling |\n",
    "| `AGE`      | proportion of owner-occupied units built prior to 1940 |\n",
    "| `DIS`      | weighted distances to five Boston employment centres |\n",
    "| `RAD`      | index of accessibility to radial highways |\n",
    "| `TAX`      | full-value property-tax rate per \\$ 10,000 |\n",
    "| `PTRATIO`  | pupil-teacher ratio by town |\n",
    "| `B`        | 1000(Bk - 0.63)^2` where Bk is the proportion of blacks by town |\n",
    "| `LSTAT`    | percentage lower status of the population |\n",
    "| `MEDV`     | Median value of owner-occupied homes in $1000's |\n",
    "    \n",
    "👉 Objectif :\n",
    "- Prédire le prix des maisons (variable expliquée) grâce aux différentes informations présentes dans le jeu de données (variables explicatives)."
   ]
  },
  {
   "cell_type": "markdown",
   "metadata": {},
   "source": [
    "## Setup 💻"
   ]
  },
  {
   "cell_type": "markdown",
   "metadata": {},
   "source": [
    "Importer les librairies "
   ]
  },
  {
   "cell_type": "code",
   "execution_count": null,
   "metadata": {},
   "outputs": [],
   "source": [
    "import pandas as pd \n",
    "import seaborn as sns"
   ]
  },
  {
   "cell_type": "markdown",
   "metadata": {},
   "source": [
    "## C'est parti 💪"
   ]
  },
  {
   "cell_type": "markdown",
   "metadata": {},
   "source": [
    "## 1. Import des données "
   ]
  },
  {
   "cell_type": "markdown",
   "metadata": {},
   "source": [
    "Scikit learn embarque dans la librairie des jeux de données. Cela permet à tout de le monde de les utiliser pour s'entrainer.   \n",
    "\n",
    "Pour commencer on importe le jeu de données. "
   ]
  },
  {
   "cell_type": "code",
   "execution_count": null,
   "metadata": {},
   "outputs": [],
   "source": [
    "from sklearn.datasets import load_boston\n",
    "dataset_boston = load_boston()"
   ]
  },
  {
   "cell_type": "markdown",
   "metadata": {},
   "source": [
    "**Quel est le type de cet objet ?**"
   ]
  },
  {
   "cell_type": "code",
   "execution_count": null,
   "metadata": {},
   "outputs": [],
   "source": [
    "# Votre code ici"
   ]
  },
  {
   "cell_type": "markdown",
   "metadata": {},
   "source": [
    "<details><summary>Solution</summary>\n",
    "\n",
    "```python \n",
    "type(dataset_boston)\n",
    "```\n",
    "</details>"
   ]
  },
  {
   "cell_type": "markdown",
   "metadata": {},
   "source": [
    "Ce type est une extension d'un dictionnaire que nous avons vu précédemment.\n",
    "\n",
    "[Documentation de scikit-learn](https://scikit-learn.org/stable/modules/generated/sklearn.utils.Bunch.html#sklearn.utils.Bunch)"
   ]
  },
  {
   "cell_type": "markdown",
   "metadata": {},
   "source": [
    "**Regardez les clés qui sont précentes dedans**"
   ]
  },
  {
   "cell_type": "code",
   "execution_count": 81,
   "metadata": {},
   "outputs": [],
   "source": [
    "# Votre code ici"
   ]
  },
  {
   "cell_type": "markdown",
   "metadata": {},
   "source": [
    "<details><summary>Solution</summary>\n",
    "\n",
    "```python \n",
    "dataset_boston.keys()\n",
    "```\n",
    "</details>"
   ]
  },
  {
   "cell_type": "markdown",
   "metadata": {},
   "source": [
    "`data` contient les variables explicatives  \n",
    "`target` contient la variable expliquée (le prix)   \n",
    "`features_names` contient le nom des varibles explicatives   \n",
    "`DESCR` contient la description du jeux de données  \n",
    "`filename` contient le nom du fichier   \n",
    "\n"
   ]
  },
  {
   "cell_type": "markdown",
   "metadata": {},
   "source": [
    "Pour lire la description originale de ce jeu de donnée "
   ]
  },
  {
   "cell_type": "code",
   "execution_count": null,
   "metadata": {},
   "outputs": [],
   "source": [
    "# dataset_boston.DESCR.split(\"\\n\")"
   ]
  },
  {
   "cell_type": "markdown",
   "metadata": {},
   "source": [
    "**Chargez le contenu des données de ce dataset dans un DataFrame.**\n",
    "\n",
    "- Les données sont contenu dans la clé `data` \n",
    "- le nom des colonnes dans la clé `feature_names`"
   ]
  },
  {
   "cell_type": "code",
   "execution_count": 82,
   "metadata": {},
   "outputs": [],
   "source": [
    "# Votre code ici"
   ]
  },
  {
   "cell_type": "markdown",
   "metadata": {},
   "source": [
    "<details><summary>Solution</summary>\n",
    "\n",
    "```python \n",
    "boston_df = pd.DataFrame(dataset_boston.data, columns=dataset_boston.feature_names)\n",
    "```\n",
    "</details>"
   ]
  },
  {
   "cell_type": "markdown",
   "metadata": {},
   "source": [
    "**Ajoutez la variable expliquée *target* du dataset dans une colonne `PRIX` ce dataset**"
   ]
  },
  {
   "cell_type": "code",
   "execution_count": null,
   "metadata": {},
   "outputs": [],
   "source": [
    "# Votre code ici"
   ]
  },
  {
   "cell_type": "markdown",
   "metadata": {},
   "source": [
    "<details><summary>Solution</summary>\n",
    "\n",
    "```python \n",
    "boston_df['PRIX'] = dataset_boston.target\n",
    "```\n",
    "</details>"
   ]
  },
  {
   "cell_type": "markdown",
   "metadata": {},
   "source": [
    "## 2. Exploration des données "
   ]
  },
  {
   "cell_type": "markdown",
   "metadata": {},
   "source": [
    "Nous cherchons à comprendre comment les variables explicatives sont liées à la variable expliquée. "
   ]
  },
  {
   "cell_type": "markdown",
   "metadata": {},
   "source": [
    "**Représentez sur un nuage du point le `PRIX` en fonction de `DIS`**\n",
    "\n",
    "Analysez aussi la corrélation entre ces deux variables. "
   ]
  },
  {
   "cell_type": "code",
   "execution_count": null,
   "metadata": {},
   "outputs": [],
   "source": [
    "# Votre code ici"
   ]
  },
  {
   "cell_type": "markdown",
   "metadata": {},
   "source": [
    "<details><summary>Solution</summary>\n",
    "\n",
    "```python \n",
    "sns.scatterplot(x=\"DIS\", y=\"PRIX\", data=boston_df)\n",
    "boston_df[\"PRIX\"].corr(boston_df[\"DIS\"])\n",
    "```\n",
    "</details>"
   ]
  },
  {
   "cell_type": "markdown",
   "metadata": {},
   "source": [
    "**Réprésenter sur un nuage de point le `PRIX` en fonction de `RM`**\n",
    "\n",
    "Analysez aussi la corrélation entre ces deux variables. "
   ]
  },
  {
   "cell_type": "code",
   "execution_count": null,
   "metadata": {},
   "outputs": [],
   "source": [
    "# Votre code ici"
   ]
  },
  {
   "cell_type": "markdown",
   "metadata": {},
   "source": [
    "<details><summary>Solution</summary>\n",
    "\n",
    "```python \n",
    "sns.scatterplot(x=\"RM\", y=\"PRIX\", data=boston_df)\n",
    "boston_df[\"PRIX\"].corr(boston_df[\"RM\"])\n",
    "```\n",
    "</details>"
   ]
  },
  {
   "cell_type": "markdown",
   "metadata": {},
   "source": [
    "💡 Le jeu de données contient 14 variables. Afin d'avoir un avis global sur la corrélation entre les variables on utilise souvent une matrice de corrélation. Cette matrice permet de représenter la corrélation de chacune des variables. \n",
    "\n",
    "👉[Plus d'information sur la corrélation](https://fr.wikipedia.org/wiki/Corr%C3%A9lation_(statistiques))"
   ]
  },
  {
   "cell_type": "markdown",
   "metadata": {},
   "source": [
    "**Dessiner la matrice de corrélation des variables du DataFrame** \n",
    "\n",
    "- Vous pouvez utilise la méthode pour calculée la [corrélation](https://pandas.pydata.org/pandas-docs/stable/reference/api/pandas.DataFrame.corr.html) des variables d'un DataFrame\n",
    "- Seaborn propose aussi une représentation par [zone de chaleur](https://seaborn.pydata.org/generated/seaborn.heatmap.html) qui est assez utile"
   ]
  },
  {
   "cell_type": "code",
   "execution_count": null,
   "metadata": {},
   "outputs": [],
   "source": [
    "# Votre code ici"
   ]
  },
  {
   "cell_type": "markdown",
   "metadata": {},
   "source": [
    "<details><summary>Solution</summary>\n",
    "\n",
    "```python \n",
    "matrice_corr = boston_df.corr().round(1)\n",
    "sns.heatmap(data=matrice_corr, annot=True)\n",
    "```\n",
    "</details>"
   ]
  },
  {
   "cell_type": "markdown",
   "metadata": {},
   "source": [
    "### Comment lire cette matrice de corrélation ? \n",
    "\n",
    "1. Chaque variable est fortement corrélée à elle-même. C'est pour cela que la diagonale de matrice est composée de 1. \n",
    "\n",
    "\n",
    "\n",
    "2. Pour lire la corrélation des variables avec le `PRIX` il faut lire la dernière ligne de la matrice\n",
    "\n",
    "\n",
    "- `RM` est fortement corrélée avec `PRIX`\n",
    "- `LSTAT` est fortement corrélée avec `PRIX`\n",
    "- Viennent ensuite `INDUS`, `PTRATIO` et `TAX`\n",
    "\n",
    "\n",
    "3. Lors d'une régression linéaire, les variables explicatives ne doivent pas être corrélées entre elles. \n",
    "\n",
    "\n",
    "- `INDUS` et `TAX` sont corrélée de 0.7 Nous écartons donc `INDUS`\n",
    "\n",
    "\n",
    "4. Nous choisissons donc les variables explicatives `RM`, `LSTAT`, `TAX`, `PTRATIO`"
   ]
  },
  {
   "cell_type": "markdown",
   "metadata": {},
   "source": [
    "## 3. Modélisation "
   ]
  },
  {
   "cell_type": "markdown",
   "metadata": {},
   "source": [
    "**Générez un jeu d'apprentissage et un jeu d'entrainement avec nos 4 variables explicatives** "
   ]
  },
  {
   "cell_type": "code",
   "execution_count": null,
   "metadata": {},
   "outputs": [],
   "source": [
    "# Votre code ici"
   ]
  },
  {
   "cell_type": "markdown",
   "metadata": {},
   "source": [
    "<details><summary>🤫Indice</summary>\n",
    "\n",
    "Pour prendre une partie d'un DataFrame \n",
    "```python \n",
    "df_2 = df[[\"COL1\", \"COL2\"]]\n",
    "```\n",
    "</details>"
   ]
  },
  {
   "cell_type": "markdown",
   "metadata": {},
   "source": [
    "<details><summary>Solution</summary>\n",
    "\n",
    "```python \n",
    "from sklearn.model_selection import train_test_split\n",
    "\n",
    "train_data, test_data = train_test_split(boston_df[[\"RM\", \"LSTAT\", \"TAX\", \"PTRATIO\", \"PRIX\"]], test_size=0.3)\n",
    "```\n",
    "</details>"
   ]
  },
  {
   "cell_type": "markdown",
   "metadata": {},
   "source": [
    "**Générez les variables explicatives et expliqués de d'apprentissage et de test** "
   ]
  },
  {
   "cell_type": "code",
   "execution_count": null,
   "metadata": {},
   "outputs": [],
   "source": [
    "# Votre code ici"
   ]
  },
  {
   "cell_type": "markdown",
   "metadata": {},
   "source": [
    "<details><summary>Solution</summary>\n",
    "\n",
    "```python \n",
    "X_train = train_data[[\"RM\", \"LSTAT\", \"TAX\", \"PTRATIO\"]]\n",
    "X_test = test_data[[\"RM\", \"LSTAT\", \"TAX\", \"PTRATIO\"]]\n",
    "y_train = train_data[\"PRIX\"]\n",
    "y_test = test_data[\"PRIX\"]\n",
    "```\n",
    "</details>"
   ]
  },
  {
   "cell_type": "markdown",
   "metadata": {},
   "source": [
    "**Entrainez la régression linéaire sur les jeux de données d'apprentissage** "
   ]
  },
  {
   "cell_type": "code",
   "execution_count": null,
   "metadata": {},
   "outputs": [],
   "source": [
    "# Votre code ici"
   ]
  },
  {
   "cell_type": "markdown",
   "metadata": {},
   "source": [
    "<details><summary>Solution</summary>\n",
    "\n",
    "```python \n",
    "from sklearn.linear_model import LinearRegression\n",
    " \n",
    "model = LinearRegression()\n",
    "model.fit(X_train, y_train)\n",
    "```\n",
    "</details>"
   ]
  },
  {
   "cell_type": "markdown",
   "metadata": {},
   "source": [
    "### 4. Evaluation du modèle "
   ]
  },
  {
   "cell_type": "markdown",
   "metadata": {},
   "source": [
    "**Analysez la performance du modèle sur le jeu d'apprentissage** "
   ]
  },
  {
   "cell_type": "code",
   "execution_count": null,
   "metadata": {},
   "outputs": [],
   "source": [
    "# Votre code ici"
   ]
  },
  {
   "cell_type": "markdown",
   "metadata": {},
   "source": [
    "<details><summary>Solution</summary>\n",
    "\n",
    "```python \n",
    "model.score(X_train, y_train)\n",
    "```\n",
    "</details>"
   ]
  },
  {
   "cell_type": "markdown",
   "metadata": {},
   "source": [
    "**Analysez la performance du modèle sur le jeu de test** "
   ]
  },
  {
   "cell_type": "code",
   "execution_count": null,
   "metadata": {},
   "outputs": [],
   "source": [
    "# Votre code ici"
   ]
  },
  {
   "cell_type": "markdown",
   "metadata": {},
   "source": [
    "<details><summary>Solution</summary>\n",
    "\n",
    "```python \n",
    "model.score(X_test, y_test)\n",
    "```\n",
    "</details>"
   ]
  },
  {
   "cell_type": "markdown",
   "metadata": {},
   "source": [
    "## Pour aller plus loin \n",
    "\n",
    "Pour allez plus loin et appliquer une régression polynomiale sur ce jeu de donnée, suivez le notebook [ici](https://github.com/lilstipher/ledatascientist/blob/master/regression-polynomiale/Regression%20polynomiale.ipynb) "
   ]
  }
 ],
 "metadata": {
  "kernelspec": {
   "display_name": "Python 3",
   "language": "python",
   "name": "python3"
  },
  "language_info": {
   "codemirror_mode": {
    "name": "ipython",
    "version": 3
   },
   "file_extension": ".py",
   "mimetype": "text/x-python",
   "name": "python",
   "nbconvert_exporter": "python",
   "pygments_lexer": "ipython3",
   "version": "3.7.6"
  }
 },
 "nbformat": 4,
 "nbformat_minor": 4
}
