{
 "cells": [
  {
   "cell_type": "markdown",
   "metadata": {},
   "source": [
    "# Setup 💻"
   ]
  },
  {
   "cell_type": "markdown",
   "metadata": {},
   "source": [
    "### A. Importer les librairies"
   ]
  },
  {
   "cell_type": "code",
   "execution_count": 2,
   "metadata": {},
   "outputs": [],
   "source": [
    "import pandas as pd"
   ]
  },
  {
   "cell_type": "markdown",
   "metadata": {},
   "source": [
    "### B. Charger le FEC en dataframe"
   ]
  },
  {
   "cell_type": "code",
   "execution_count": 3,
   "metadata": {},
   "outputs": [],
   "source": [
    "fec_df = pd.read_csv('https://gist.githubusercontent.com/louischavane/a82c3d1af85adfee5a73e1f12a40a800/raw/cf257fd945c89cfa9af63be1a85af8af82b565a7/fec.csv')"
   ]
  },
  {
   "cell_type": "markdown",
   "metadata": {},
   "source": [
    "# On commence l'analyse à partir d'ici 🔥\n"
   ]
  },
  {
   "cell_type": "markdown",
   "metadata": {},
   "source": [
    "## 1. Pouvez-vous afficher les 10 premières lignes du dataset ? "
   ]
  },
  {
   "cell_type": "code",
   "execution_count": 4,
   "metadata": {},
   "outputs": [
    {
     "data": {
      "text/html": [
       "<div>\n",
       "<style scoped>\n",
       "    .dataframe tbody tr th:only-of-type {\n",
       "        vertical-align: middle;\n",
       "    }\n",
       "\n",
       "    .dataframe tbody tr th {\n",
       "        vertical-align: top;\n",
       "    }\n",
       "\n",
       "    .dataframe thead th {\n",
       "        text-align: right;\n",
       "    }\n",
       "</style>\n",
       "<table border=\"1\" class=\"dataframe\">\n",
       "  <thead>\n",
       "    <tr style=\"text-align: right;\">\n",
       "      <th></th>\n",
       "      <th>JournalCode</th>\n",
       "      <th>JournalLib</th>\n",
       "      <th>EcritureNum</th>\n",
       "      <th>EcritureDate</th>\n",
       "      <th>CompteNum</th>\n",
       "      <th>CompteLib</th>\n",
       "      <th>CompAuxNum</th>\n",
       "      <th>CompAuxLib</th>\n",
       "      <th>PieceRef</th>\n",
       "      <th>PieceDate</th>\n",
       "      <th>...</th>\n",
       "      <th>Credit</th>\n",
       "      <th>EcritureLet</th>\n",
       "      <th>DateLet</th>\n",
       "      <th>ValidDate</th>\n",
       "      <th>Montantdevise</th>\n",
       "      <th>Idevise</th>\n",
       "      <th>DateRglt</th>\n",
       "      <th>ModeRglt</th>\n",
       "      <th>NatOp</th>\n",
       "      <th>IdClient</th>\n",
       "    </tr>\n",
       "  </thead>\n",
       "  <tbody>\n",
       "    <tr>\n",
       "      <th>0</th>\n",
       "      <td>AN</td>\n",
       "      <td>A-NOUVEAU</td>\n",
       "      <td>AN0000001</td>\n",
       "      <td>20190101</td>\n",
       "      <td>10130000</td>\n",
       "      <td>Lib_1</td>\n",
       "      <td>NaN</td>\n",
       "      <td>NaN</td>\n",
       "      <td>1</td>\n",
       "      <td>20190101</td>\n",
       "      <td>...</td>\n",
       "      <td>1000,00</td>\n",
       "      <td>NaN</td>\n",
       "      <td>NaN</td>\n",
       "      <td>20200403</td>\n",
       "      <td>NaN</td>\n",
       "      <td>EUR</td>\n",
       "      <td>NaN</td>\n",
       "      <td>NaN</td>\n",
       "      <td>NaN</td>\n",
       "      <td>NaN</td>\n",
       "    </tr>\n",
       "    <tr>\n",
       "      <th>1</th>\n",
       "      <td>AN</td>\n",
       "      <td>A-NOUVEAU</td>\n",
       "      <td>AN0000001</td>\n",
       "      <td>20190101</td>\n",
       "      <td>10611000</td>\n",
       "      <td>Lib_2</td>\n",
       "      <td>NaN</td>\n",
       "      <td>NaN</td>\n",
       "      <td>1</td>\n",
       "      <td>20190101</td>\n",
       "      <td>...</td>\n",
       "      <td>100,00</td>\n",
       "      <td>NaN</td>\n",
       "      <td>NaN</td>\n",
       "      <td>20200403</td>\n",
       "      <td>NaN</td>\n",
       "      <td>EUR</td>\n",
       "      <td>NaN</td>\n",
       "      <td>NaN</td>\n",
       "      <td>NaN</td>\n",
       "      <td>NaN</td>\n",
       "    </tr>\n",
       "    <tr>\n",
       "      <th>2</th>\n",
       "      <td>AN</td>\n",
       "      <td>A-NOUVEAU</td>\n",
       "      <td>AN0000001</td>\n",
       "      <td>20190101</td>\n",
       "      <td>10680000</td>\n",
       "      <td>Lib_3</td>\n",
       "      <td>NaN</td>\n",
       "      <td>NaN</td>\n",
       "      <td>1</td>\n",
       "      <td>20190101</td>\n",
       "      <td>...</td>\n",
       "      <td>14147,06</td>\n",
       "      <td>NaN</td>\n",
       "      <td>NaN</td>\n",
       "      <td>20200403</td>\n",
       "      <td>NaN</td>\n",
       "      <td>EUR</td>\n",
       "      <td>NaN</td>\n",
       "      <td>NaN</td>\n",
       "      <td>NaN</td>\n",
       "      <td>NaN</td>\n",
       "    </tr>\n",
       "    <tr>\n",
       "      <th>3</th>\n",
       "      <td>AN</td>\n",
       "      <td>A-NOUVEAU</td>\n",
       "      <td>AN0000001</td>\n",
       "      <td>20190101</td>\n",
       "      <td>16400000</td>\n",
       "      <td>Lib_4</td>\n",
       "      <td>NaN</td>\n",
       "      <td>NaN</td>\n",
       "      <td>1</td>\n",
       "      <td>20190101</td>\n",
       "      <td>...</td>\n",
       "      <td>90399,82</td>\n",
       "      <td>NaN</td>\n",
       "      <td>NaN</td>\n",
       "      <td>20200403</td>\n",
       "      <td>NaN</td>\n",
       "      <td>EUR</td>\n",
       "      <td>NaN</td>\n",
       "      <td>NaN</td>\n",
       "      <td>NaN</td>\n",
       "      <td>NaN</td>\n",
       "    </tr>\n",
       "    <tr>\n",
       "      <th>4</th>\n",
       "      <td>AN</td>\n",
       "      <td>A-NOUVEAU</td>\n",
       "      <td>AN0000001</td>\n",
       "      <td>20190101</td>\n",
       "      <td>16410000</td>\n",
       "      <td>Lib_4</td>\n",
       "      <td>NaN</td>\n",
       "      <td>NaN</td>\n",
       "      <td>1</td>\n",
       "      <td>20190101</td>\n",
       "      <td>...</td>\n",
       "      <td>100000,00</td>\n",
       "      <td>NaN</td>\n",
       "      <td>NaN</td>\n",
       "      <td>20200403</td>\n",
       "      <td>NaN</td>\n",
       "      <td>EUR</td>\n",
       "      <td>NaN</td>\n",
       "      <td>NaN</td>\n",
       "      <td>NaN</td>\n",
       "      <td>NaN</td>\n",
       "    </tr>\n",
       "    <tr>\n",
       "      <th>5</th>\n",
       "      <td>AN</td>\n",
       "      <td>A-NOUVEAU</td>\n",
       "      <td>AN0000001</td>\n",
       "      <td>20190101</td>\n",
       "      <td>21810000</td>\n",
       "      <td>Lib_5</td>\n",
       "      <td>NaN</td>\n",
       "      <td>NaN</td>\n",
       "      <td>1</td>\n",
       "      <td>20190101</td>\n",
       "      <td>...</td>\n",
       "      <td>0,00</td>\n",
       "      <td>NaN</td>\n",
       "      <td>NaN</td>\n",
       "      <td>20200403</td>\n",
       "      <td>NaN</td>\n",
       "      <td>EUR</td>\n",
       "      <td>NaN</td>\n",
       "      <td>NaN</td>\n",
       "      <td>NaN</td>\n",
       "      <td>NaN</td>\n",
       "    </tr>\n",
       "    <tr>\n",
       "      <th>6</th>\n",
       "      <td>AN</td>\n",
       "      <td>A-NOUVEAU</td>\n",
       "      <td>AN0000001</td>\n",
       "      <td>20190101</td>\n",
       "      <td>21830000</td>\n",
       "      <td>Lib_6</td>\n",
       "      <td>NaN</td>\n",
       "      <td>NaN</td>\n",
       "      <td>1</td>\n",
       "      <td>20190101</td>\n",
       "      <td>...</td>\n",
       "      <td>0,00</td>\n",
       "      <td>NaN</td>\n",
       "      <td>NaN</td>\n",
       "      <td>20200403</td>\n",
       "      <td>NaN</td>\n",
       "      <td>EUR</td>\n",
       "      <td>NaN</td>\n",
       "      <td>NaN</td>\n",
       "      <td>NaN</td>\n",
       "      <td>NaN</td>\n",
       "    </tr>\n",
       "    <tr>\n",
       "      <th>7</th>\n",
       "      <td>AN</td>\n",
       "      <td>A-NOUVEAU</td>\n",
       "      <td>AN0000001</td>\n",
       "      <td>20190101</td>\n",
       "      <td>21840000</td>\n",
       "      <td>Lib_7</td>\n",
       "      <td>NaN</td>\n",
       "      <td>NaN</td>\n",
       "      <td>1</td>\n",
       "      <td>20190101</td>\n",
       "      <td>...</td>\n",
       "      <td>0,00</td>\n",
       "      <td>NaN</td>\n",
       "      <td>NaN</td>\n",
       "      <td>20200403</td>\n",
       "      <td>NaN</td>\n",
       "      <td>EUR</td>\n",
       "      <td>NaN</td>\n",
       "      <td>NaN</td>\n",
       "      <td>NaN</td>\n",
       "      <td>NaN</td>\n",
       "    </tr>\n",
       "    <tr>\n",
       "      <th>8</th>\n",
       "      <td>AN</td>\n",
       "      <td>A-NOUVEAU</td>\n",
       "      <td>AN0000001</td>\n",
       "      <td>20190101</td>\n",
       "      <td>27500000</td>\n",
       "      <td>Lib_8</td>\n",
       "      <td>NaN</td>\n",
       "      <td>NaN</td>\n",
       "      <td>1</td>\n",
       "      <td>20190101</td>\n",
       "      <td>...</td>\n",
       "      <td>0,00</td>\n",
       "      <td>NaN</td>\n",
       "      <td>NaN</td>\n",
       "      <td>20200403</td>\n",
       "      <td>NaN</td>\n",
       "      <td>EUR</td>\n",
       "      <td>NaN</td>\n",
       "      <td>NaN</td>\n",
       "      <td>NaN</td>\n",
       "      <td>NaN</td>\n",
       "    </tr>\n",
       "    <tr>\n",
       "      <th>9</th>\n",
       "      <td>AN</td>\n",
       "      <td>A-NOUVEAU</td>\n",
       "      <td>AN0000001</td>\n",
       "      <td>20190101</td>\n",
       "      <td>28181000</td>\n",
       "      <td>Lib_9</td>\n",
       "      <td>NaN</td>\n",
       "      <td>NaN</td>\n",
       "      <td>1</td>\n",
       "      <td>20190101</td>\n",
       "      <td>...</td>\n",
       "      <td>61,26</td>\n",
       "      <td>NaN</td>\n",
       "      <td>NaN</td>\n",
       "      <td>20200403</td>\n",
       "      <td>NaN</td>\n",
       "      <td>EUR</td>\n",
       "      <td>NaN</td>\n",
       "      <td>NaN</td>\n",
       "      <td>NaN</td>\n",
       "      <td>NaN</td>\n",
       "    </tr>\n",
       "  </tbody>\n",
       "</table>\n",
       "<p>10 rows × 22 columns</p>\n",
       "</div>"
      ],
      "text/plain": [
       "  JournalCode JournalLib EcritureNum  EcritureDate  CompteNum CompteLib  \\\n",
       "0          AN  A-NOUVEAU   AN0000001      20190101   10130000     Lib_1   \n",
       "1          AN  A-NOUVEAU   AN0000001      20190101   10611000     Lib_2   \n",
       "2          AN  A-NOUVEAU   AN0000001      20190101   10680000     Lib_3   \n",
       "3          AN  A-NOUVEAU   AN0000001      20190101   16400000     Lib_4   \n",
       "4          AN  A-NOUVEAU   AN0000001      20190101   16410000     Lib_4   \n",
       "5          AN  A-NOUVEAU   AN0000001      20190101   21810000     Lib_5   \n",
       "6          AN  A-NOUVEAU   AN0000001      20190101   21830000     Lib_6   \n",
       "7          AN  A-NOUVEAU   AN0000001      20190101   21840000     Lib_7   \n",
       "8          AN  A-NOUVEAU   AN0000001      20190101   27500000     Lib_8   \n",
       "9          AN  A-NOUVEAU   AN0000001      20190101   28181000     Lib_9   \n",
       "\n",
       "   CompAuxNum  CompAuxLib  PieceRef  PieceDate  ...     Credit EcritureLet  \\\n",
       "0         NaN         NaN         1   20190101  ...    1000,00         NaN   \n",
       "1         NaN         NaN         1   20190101  ...     100,00         NaN   \n",
       "2         NaN         NaN         1   20190101  ...   14147,06         NaN   \n",
       "3         NaN         NaN         1   20190101  ...   90399,82         NaN   \n",
       "4         NaN         NaN         1   20190101  ...  100000,00         NaN   \n",
       "5         NaN         NaN         1   20190101  ...       0,00         NaN   \n",
       "6         NaN         NaN         1   20190101  ...       0,00         NaN   \n",
       "7         NaN         NaN         1   20190101  ...       0,00         NaN   \n",
       "8         NaN         NaN         1   20190101  ...       0,00         NaN   \n",
       "9         NaN         NaN         1   20190101  ...      61,26         NaN   \n",
       "\n",
       "  DateLet  ValidDate  Montantdevise  Idevise  DateRglt ModeRglt  NatOp  \\\n",
       "0     NaN   20200403            NaN      EUR       NaN      NaN    NaN   \n",
       "1     NaN   20200403            NaN      EUR       NaN      NaN    NaN   \n",
       "2     NaN   20200403            NaN      EUR       NaN      NaN    NaN   \n",
       "3     NaN   20200403            NaN      EUR       NaN      NaN    NaN   \n",
       "4     NaN   20200403            NaN      EUR       NaN      NaN    NaN   \n",
       "5     NaN   20200403            NaN      EUR       NaN      NaN    NaN   \n",
       "6     NaN   20200403            NaN      EUR       NaN      NaN    NaN   \n",
       "7     NaN   20200403            NaN      EUR       NaN      NaN    NaN   \n",
       "8     NaN   20200403            NaN      EUR       NaN      NaN    NaN   \n",
       "9     NaN   20200403            NaN      EUR       NaN      NaN    NaN   \n",
       "\n",
       "   IdClient  \n",
       "0       NaN  \n",
       "1       NaN  \n",
       "2       NaN  \n",
       "3       NaN  \n",
       "4       NaN  \n",
       "5       NaN  \n",
       "6       NaN  \n",
       "7       NaN  \n",
       "8       NaN  \n",
       "9       NaN  \n",
       "\n",
       "[10 rows x 22 columns]"
      ]
     },
     "execution_count": 4,
     "metadata": {},
     "output_type": "execute_result"
    }
   ],
   "source": [
    "fec_df.head(10)"
   ]
  },
  {
   "cell_type": "markdown",
   "metadata": {},
   "source": [
    "## 2. Est-ce qu'il manque des valeurs dans ce jeu de données ? "
   ]
  },
  {
   "cell_type": "code",
   "execution_count": 5,
   "metadata": {},
   "outputs": [
    {
     "data": {
      "text/plain": [
       "JournalCode          0\n",
       "JournalLib           0\n",
       "EcritureNum          0\n",
       "EcritureDate         0\n",
       "CompteNum            0\n",
       "CompteLib            0\n",
       "CompAuxNum       11924\n",
       "CompAuxLib       11924\n",
       "PieceRef             0\n",
       "PieceDate            0\n",
       "EcritureLib          0\n",
       "Debit                0\n",
       "Credit               0\n",
       "EcritureLet      11924\n",
       "DateLet          11924\n",
       "ValidDate            0\n",
       "Montantdevise    11924\n",
       "Idevise              0\n",
       "DateRglt         11924\n",
       "ModeRglt         11924\n",
       "NatOp            11924\n",
       "IdClient         11924\n",
       "dtype: int64"
      ]
     },
     "execution_count": 5,
     "metadata": {},
     "output_type": "execute_result"
    }
   ],
   "source": [
    "fec_df.isnull().sum()"
   ]
  },
  {
   "cell_type": "markdown",
   "metadata": {},
   "source": [
    "## 6. Est-ce que vous pouvez supprimer les colonnes qui sont vides ? "
   ]
  },
  {
   "cell_type": "code",
   "execution_count": 6,
   "metadata": {},
   "outputs": [],
   "source": [
    "columns_to_drop = ['CompAuxNum', 'CompAuxLib', 'EcritureLet', 'DateLet', 'Montantdevise', 'DateRglt', 'ModeRglt', 'NatOp', 'IdClient']\n",
    "fec_df.drop(columns_to_drop, axis=\"columns\", inplace=True)\n"
   ]
  },
  {
   "cell_type": "code",
   "execution_count": null,
   "metadata": {},
   "outputs": [],
   "source": []
  },
  {
   "cell_type": "markdown",
   "metadata": {},
   "source": [
    "## 3. Combien d'écritures sont présentes dans ce FEC ? "
   ]
  },
  {
   "cell_type": "code",
   "execution_count": 7,
   "metadata": {},
   "outputs": [
    {
     "data": {
      "text/plain": [
       "(11924, 13)"
      ]
     },
     "execution_count": 7,
     "metadata": {},
     "output_type": "execute_result"
    }
   ],
   "source": [
    "fec_df.shape"
   ]
  },
  {
   "cell_type": "markdown",
   "metadata": {},
   "source": [
    "## Combien de journaux sont présentés dans le FEC ? "
   ]
  },
  {
   "cell_type": "code",
   "execution_count": 10,
   "metadata": {},
   "outputs": [
    {
     "data": {
      "text/plain": [
       "array(['AN', 'CI', 'HA', 'MB', 'OD', 'UT'], dtype=object)"
      ]
     },
     "execution_count": 10,
     "metadata": {},
     "output_type": "execute_result"
    }
   ],
   "source": [
    "fec_df[\"JournalCode\"].unique()"
   ]
  },
  {
   "cell_type": "code",
   "execution_count": null,
   "metadata": {},
   "outputs": [],
   "source": []
  },
  {
   "cell_type": "code",
   "execution_count": null,
   "metadata": {},
   "outputs": [],
   "source": []
  }
 ],
 "metadata": {
  "kernelspec": {
   "display_name": "Python 3",
   "language": "python",
   "name": "python3"
  },
  "language_info": {
   "codemirror_mode": {
    "name": "ipython",
    "version": 3
   },
   "file_extension": ".py",
   "mimetype": "text/x-python",
   "name": "python",
   "nbconvert_exporter": "python",
   "pygments_lexer": "ipython3",
   "version": "3.7.6"
  }
 },
 "nbformat": 4,
 "nbformat_minor": 4
}
